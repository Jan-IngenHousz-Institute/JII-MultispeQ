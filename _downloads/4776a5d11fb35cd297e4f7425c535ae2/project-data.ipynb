{
 "cells": [
  {
   "cell_type": "markdown",
   "metadata": {},
   "source": [
    "# Download Project Data from PhotosynQ\n",
    "\n",
    "A local copy of the data frames and the Project Information\n",
    "gets saved in the same directory as the file executed by default."
   ]
  },
  {
   "cell_type": "code",
   "execution_count": null,
   "metadata": {},
   "outputs": [],
   "source": [
    "import jii_multispeq.project as project\n",
    "import jii_multispeq.protocol as protocol"
   ]
  },
  {
   "cell_type": "code",
   "execution_count": null,
   "metadata": {},
   "outputs": [],
   "source": [
    "email = \"jan.ingenhousz@jii.org\"\n",
    "projectId = 29652\n",
    "\n",
    "## Get the project data and information\n",
    "df, info = project.get(email, projectId)"
   ]
  },
  {
   "cell_type": "code",
   "execution_count": null,
   "metadata": {},
   "outputs": [],
   "source": [
    "## Print the project information\n",
    "project.print_info(info)"
   ]
  },
  {
   "cell_type": "code",
   "execution_count": null,
   "metadata": {},
   "outputs": [],
   "source": [
    "## Get Protocol Name\n",
    "protocol_name =  protocol.get_protocol_name(info)\n",
    "print(protocol_name)\n",
    "\n",
    "## Get Protocol Code\n",
    "protocol_code = protocol.get_protocol(info)\n",
    "print(protocol_code)"
   ]
  },
  {
   "cell_type": "code",
   "execution_count": null,
   "metadata": {},
   "outputs": [],
   "source": [
    "## Get Protocol's dataframe and show its information\n",
    "data = df[protocol_name]\n",
    "print(data.info('verbose'))"
   ]
  }
 ],
 "metadata": {
  "kernelspec": {
   "display_name": "base",
   "language": "python",
   "name": "python3"
  },
  "language_info": {
   "codemirror_mode": {
    "name": "ipython",
    "version": 3
   },
   "file_extension": ".py",
   "mimetype": "text/x-python",
   "name": "python",
   "nbconvert_exporter": "python",
   "pygments_lexer": "ipython3",
   "version": "3.9.10"
  }
 },
 "nbformat": 4,
 "nbformat_minor": 2
}
