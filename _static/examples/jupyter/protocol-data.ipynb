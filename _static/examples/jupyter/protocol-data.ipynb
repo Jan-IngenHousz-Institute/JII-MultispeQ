{
 "cells": [
  {
   "cell_type": "markdown",
   "metadata": {},
   "source": [
    "# Working with a Protocol\n",
    "\n",
    "Accessing the protocol from the Project Information and\n",
    "it's components which can further assist in the data analysis."
   ]
  },
  {
   "cell_type": "code",
   "execution_count": null,
   "metadata": {},
   "outputs": [],
   "source": [
    "import jii_multispeq.project as project\n",
    "import jii_multispeq.protocol as protocol"
   ]
  },
  {
   "cell_type": "code",
   "execution_count": null,
   "metadata": {},
   "outputs": [],
   "source": [
    "projectId = 29652\n",
    "\n",
    "## Get the project data and information\n",
    "df, info = project.get(projectId=projectId)"
   ]
  },
  {
   "cell_type": "code",
   "execution_count": null,
   "metadata": {},
   "outputs": [],
   "source": [
    "## Get Protocol Name\n",
    "protocol_name =  protocol.get_protocol_name(info)\n",
    "print(protocol_name)"
   ]
  },
  {
   "cell_type": "code",
   "execution_count": null,
   "metadata": {},
   "outputs": [],
   "source": [
    "## Get the code for the selected protocol\n",
    "protocol_code =  protocol.get_protocol(info)\n",
    "print( protocol_code )"
   ]
  },
  {
   "cell_type": "code",
   "execution_count": null,
   "metadata": {},
   "outputs": [],
   "source": [
    "## Get the variable array (v_arrays) from a selected protocol\n",
    "v_arrays = protocol.get_v_arrays(protocol_code)\n",
    "print( v_arrays )"
   ]
  },
  {
   "cell_type": "code",
   "execution_count": null,
   "metadata": {},
   "outputs": [],
   "source": [
    "## Get all labels from sub-protocols\n",
    "labels = protocol.get_subprotocol_labels(protocol_code)\n",
    "print( labels )"
   ]
  },
  {
   "cell_type": "code",
   "execution_count": null,
   "metadata": {},
   "outputs": [],
   "source": [
    "## Get sub-protocols by label\n",
    "by_label = protocol.get_subprotocols_by_label(protocol_code, \"PIRK\")\n",
    "print( by_label )"
   ]
  },
  {
   "cell_type": "code",
   "execution_count": null,
   "metadata": {},
   "outputs": [],
   "source": [
    "## Get sub-protocols by index\n",
    "by_index = protocol.get_subprotocol_by_index(protocol_code, 2)\n",
    "print( by_index )"
   ]
  }
 ],
 "metadata": {
  "kernelspec": {
   "display_name": "base",
   "language": "python",
   "name": "python3"
  },
  "language_info": {
   "codemirror_mode": {
    "name": "ipython",
    "version": 3
   },
   "file_extension": ".py",
   "mimetype": "text/x-python",
   "name": "python",
   "nbconvert_exporter": "python",
   "pygments_lexer": "ipython3",
   "version": "3.9.10"
  }
 },
 "nbformat": 4,
 "nbformat_minor": 2
}
